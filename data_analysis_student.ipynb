{
 "cells": [
  {
   "cell_type": "markdown",
   "metadata": {},
   "source": [
    "# Analyse Data - Student Academics Performance Dataset\n",
    "\n",
    "\n",
    "The aim of these set of questions is to assess your level of understanding in analysing a new dataset. This first set of questionnaire provides a set of questions that you should answer to output some visualisations. "
   ]
  },
  {
   "cell_type": "code",
   "execution_count": 1,
   "metadata": {},
   "outputs": [],
   "source": [
    "%matplotlib inline\n",
    "import numpy as np\n",
    "import pandas as pd\n",
    "import matplotlib.pyplot as plt\n",
    "#using a pandas style\n",
    "plt.style.use('ggplot')"
   ]
  },
  {
   "cell_type": "markdown",
   "metadata": {},
   "source": [
    "**1. Load the Dataset csv file (Student_Performance.csv) and count the attributes describing the data**"
   ]
  },
  {
   "cell_type": "code",
   "execution_count": 2,
   "metadata": {},
   "outputs": [],
   "source": [
    "#csv dataset file is read using pandas\n",
    "dataset = pd.read_csv(\"Student_Performance.csv\")"
   ]
  },
  {
   "cell_type": "markdown",
   "metadata": {},
   "source": [
    "**2. Can you display the list of attributes?**"
   ]
  },
  {
   "cell_type": "code",
   "execution_count": 3,
   "metadata": {},
   "outputs": [
    {
     "data": {
      "text/plain": [
       "Index(['Gender', 'Caste', 'GCSE_Performance', 'Alevel_Performance',\n",
       "       'InternalAssesment_Performance', 'FinalExam_Performance', 'Has_Arrears',\n",
       "       'MartialStatus', 'TownOrVillage', 'Admission_Category',\n",
       "       'FamilyMonthlyIncome', 'Family_Size', 'Father_Qualifications',\n",
       "       'Mother_Qualifications', 'Father_Occupation', 'Mother_Occupation',\n",
       "       'Number_of_friends', 'Study_Hours', 'School_Type', 'Language',\n",
       "       'College_Traveltime', 'Class_Attendance'],\n",
       "      dtype='object')"
      ]
     },
     "execution_count": 3,
     "metadata": {},
     "output_type": "execute_result"
    }
   ],
   "source": [
    "#.columns gets the name of each column\n",
    "dataset.columns"
   ]
  },
  {
   "cell_type": "markdown",
   "metadata": {},
   "source": [
    "**3. Display any 10 entries in this dataset. Explain below how you chose the entries.**"
   ]
  },
  {
   "cell_type": "markdown",
   "metadata": {},
   "source": [
    "**4. Find the total number of enteries in the system.**"
   ]
  },
  {
   "cell_type": "code",
   "execution_count": 5,
   "metadata": {},
   "outputs": [
    {
     "name": "stdout",
     "output_type": "stream",
     "text": [
      "Number of enteries\n",
      "131\n"
     ]
    }
   ],
   "source": [
    "count_enteries = dataset.shape[0]  # gives number of row count\n",
    "print(\"Number of enteries\")\n",
    "print(count_enteries)\n"
   ]
  },
  {
   "cell_type": "markdown",
   "metadata": {},
   "source": [
    "**5. Find the number of Male and Female students.**"
   ]
  },
  {
   "cell_type": "code",
   "execution_count": 6,
   "metadata": {},
   "outputs": [
    {
     "name": "stdout",
     "output_type": "stream",
     "text": [
      "Number of males\n",
      "72\n",
      "Number of females\n",
      "59\n"
     ]
    }
   ],
   "source": [
    "#find where M appears in Gender column and find length of the found 'M's\n",
    "males = len(dataset[dataset['Gender'] == 'M'])\n",
    "#find where F appears in Gender column and print the length of found 'F's\n",
    "females = len(dataset[dataset['Gender'] == 'F'])\n",
    "print(\"Number of males\")\n",
    "print(males)\n",
    "print(\"Number of females\")\n",
    "print(females)"
   ]
  },
  {
   "cell_type": "markdown",
   "metadata": {},
   "source": [
    "**6. How did the students perform in their Final exams?**"
   ]
  },
  {
   "cell_type": "code",
   "execution_count": 7,
   "metadata": {
    "scrolled": true
   },
   "outputs": [
    {
     "name": "stdout",
     "output_type": "stream",
     "text": [
      "Good    54\n",
      "Vg      42\n",
      "Pass    27\n",
      "Best     8\n",
      "Name: FinalExam_Performance, dtype: int64\n",
      "0    The students generally peformed Good\n",
      "dtype: object\n"
     ]
    }
   ],
   "source": [
    "#use value_counts on the final exam column to count each peform category\n",
    "final_exams = dataset['FinalExam_Performance'].value_counts()\n",
    "final_exams_mode = dataset['FinalExam_Performance'].mode()\n",
    "print(final_exams)\n",
    "print(\"The students generally peformed \" + final_exams_mode)"
   ]
  },
  {
   "cell_type": "markdown",
   "metadata": {},
   "source": [
    "**7. What is the qualification for majority of the Fathers?**"
   ]
  },
  {
   "cell_type": "code",
   "execution_count": 8,
   "metadata": {},
   "outputs": [
    {
     "name": "stdout",
     "output_type": "stream",
     "text": [
      "Um        40\n",
      "10        23\n",
      "12        22\n",
      "Il        20\n",
      "Degree    20\n",
      "Pg         6\n",
      "Name: Father_Qualifications, dtype: int64\n",
      "0    Qualification for majority of fathers is Um\n",
      "dtype: object\n"
     ]
    }
   ],
   "source": [
    "#peform value count on father_qualifications shows the spread of qualifications\n",
    "father_qualification = dataset['Father_Qualifications'].value_counts()\n",
    "#.mode() shows most common value\n",
    "father_qualification_mode = dataset['Father_Qualifications'].mode()\n",
    "print(father_qualification)\n",
    "print(\"Qualification for majority of fathers is \" + father_qualification_mode)"
   ]
  },
  {
   "cell_type": "markdown",
   "metadata": {},
   "source": [
    "**8. What is the least favourite occupation among the Mothers of the students?**"
   ]
  },
  {
   "cell_type": "code",
   "execution_count": 9,
   "metadata": {
    "scrolled": true
   },
   "outputs": [
    {
     "data": {
      "text/plain": [
       "Housewife    115\n",
       "Service       12\n",
       "Others         2\n",
       "Business       1\n",
       "Retired        1\n",
       "Name: Mother_Occupation, dtype: int64"
      ]
     },
     "execution_count": 9,
     "metadata": {},
     "output_type": "execute_result"
    }
   ],
   "source": [
    "#peform value_counts on mother_occupation to return spread of occupations\n",
    "mother_occupation = dataset['Mother_Occupation'].value_counts()\n",
    "mother_occupation"
   ]
  },
  {
   "cell_type": "markdown",
   "metadata": {},
   "source": [
    "**9. Find the number of students who performed consistently in their internal assesment and final exams?**"
   ]
  },
  {
   "cell_type": "code",
   "execution_count": 10,
   "metadata": {
    "scrolled": true
   },
   "outputs": [
    {
     "data": {
      "text/plain": [
       "70"
      ]
     },
     "execution_count": 10,
     "metadata": {},
     "output_type": "execute_result"
    }
   ],
   "source": [
    "#take each column and store in variable\n",
    "internalassesment_performance = dataset['InternalAssesment_Performance']\n",
    "finalexam_performance = dataset['FinalExam_Performance'] \n",
    "#create a new dataset where we store the rows where the values are equal\n",
    "consistent_performance = (finalexam_performance == internalassesment_performance)\n",
    "#get number of rows in dataset\n",
    "dataset[consistent_performance].shape[0]"
   ]
  },
  {
   "cell_type": "markdown",
   "metadata": {},
   "source": [
    "**10. Find the number of students who performed consistently in all their academics?**\n",
    "   "
   ]
  },
  {
   "cell_type": "code",
   "execution_count": 11,
   "metadata": {},
   "outputs": [
    {
     "data": {
      "text/plain": [
       "33"
      ]
     },
     "execution_count": 11,
     "metadata": {},
     "output_type": "execute_result"
    }
   ],
   "source": [
    "\n",
    "gcse_performance = dataset['GCSE_Performance']\n",
    "alevel_performance = dataset['Alevel_Performance']\n",
    "#use of & operator to compare the performances, 3 compares needed as\n",
    "#1 was completed in previous question\n",
    "dataset_consistent = dataset[(internalassesment_performance == finalexam_performance) & \n",
    "                   (gcse_performance == alevel_performance) &\n",
    "                   (alevel_performance == internalassesment_performance)]\n",
    "#get number of rows of the dataset which shows number of students\n",
    "dataset_consistent.shape[0]"
   ]
  },
  {
   "cell_type": "markdown",
   "metadata": {},
   "source": [
    " **11. How many are top performing students among these?**"
   ]
  },
  {
   "cell_type": "code",
   "execution_count": 12,
   "metadata": {},
   "outputs": [
    {
     "data": {
      "text/html": [
       "<div>\n",
       "<style scoped>\n",
       "    .dataframe tbody tr th:only-of-type {\n",
       "        vertical-align: middle;\n",
       "    }\n",
       "\n",
       "    .dataframe tbody tr th {\n",
       "        vertical-align: top;\n",
       "    }\n",
       "\n",
       "    .dataframe thead th {\n",
       "        text-align: right;\n",
       "    }\n",
       "</style>\n",
       "<table border=\"1\" class=\"dataframe\">\n",
       "  <thead>\n",
       "    <tr style=\"text-align: right;\">\n",
       "      <th></th>\n",
       "      <th>Gender</th>\n",
       "      <th>Caste</th>\n",
       "      <th>GCSE_Performance</th>\n",
       "      <th>Alevel_Performance</th>\n",
       "      <th>InternalAssesment_Performance</th>\n",
       "      <th>FinalExam_Performance</th>\n",
       "      <th>Has_Arrears</th>\n",
       "      <th>MartialStatus</th>\n",
       "      <th>TownOrVillage</th>\n",
       "      <th>Admission_Category</th>\n",
       "      <th>...</th>\n",
       "      <th>Father_Qualifications</th>\n",
       "      <th>Mother_Qualifications</th>\n",
       "      <th>Father_Occupation</th>\n",
       "      <th>Mother_Occupation</th>\n",
       "      <th>Number_of_friends</th>\n",
       "      <th>Study_Hours</th>\n",
       "      <th>School_Type</th>\n",
       "      <th>Language</th>\n",
       "      <th>College_Traveltime</th>\n",
       "      <th>Class_Attendance</th>\n",
       "    </tr>\n",
       "  </thead>\n",
       "  <tbody>\n",
       "    <tr>\n",
       "      <td>49</td>\n",
       "      <td>M</td>\n",
       "      <td>G</td>\n",
       "      <td>Best</td>\n",
       "      <td>Best</td>\n",
       "      <td>Best</td>\n",
       "      <td>Best</td>\n",
       "      <td>N</td>\n",
       "      <td>Unmarried</td>\n",
       "      <td>T</td>\n",
       "      <td>Paid</td>\n",
       "      <td>...</td>\n",
       "      <td>12</td>\n",
       "      <td>Um</td>\n",
       "      <td>Service</td>\n",
       "      <td>Housewife</td>\n",
       "      <td>Large</td>\n",
       "      <td>Average</td>\n",
       "      <td>Private</td>\n",
       "      <td>Eng</td>\n",
       "      <td>Small</td>\n",
       "      <td>Average</td>\n",
       "    </tr>\n",
       "  </tbody>\n",
       "</table>\n",
       "<p>1 rows × 22 columns</p>\n",
       "</div>"
      ],
      "text/plain": [
       "   Gender Caste GCSE_Performance Alevel_Performance  \\\n",
       "49      M     G             Best               Best   \n",
       "\n",
       "   InternalAssesment_Performance FinalExam_Performance Has_Arrears  \\\n",
       "49                          Best                  Best           N   \n",
       "\n",
       "   MartialStatus TownOrVillage Admission_Category  ... Father_Qualifications  \\\n",
       "49     Unmarried             T               Paid  ...                    12   \n",
       "\n",
       "   Mother_Qualifications Father_Occupation Mother_Occupation  \\\n",
       "49                    Um           Service         Housewife   \n",
       "\n",
       "   Number_of_friends Study_Hours School_Type Language College_Traveltime  \\\n",
       "49             Large     Average     Private      Eng              Small   \n",
       "\n",
       "   Class_Attendance  \n",
       "49          Average  \n",
       "\n",
       "[1 rows x 22 columns]"
      ]
     },
     "execution_count": 12,
     "metadata": {},
     "output_type": "execute_result"
    }
   ],
   "source": [
    "#consistent performance has already been found - can use any of performance \n",
    "#columns to find the \"top performing students\"\n",
    "#consider the best performing students to be the top performing shows 1 student\n",
    "best = dataset_consistent['Alevel_Performance'] == 'Best'\n",
    "dataset_consistent[best]"
   ]
  },
  {
   "cell_type": "markdown",
   "metadata": {},
   "source": [
    "## Visuallize different aspects of the data! "
   ]
  },
  {
   "cell_type": "markdown",
   "metadata": {},
   "source": [
    "  **12. Plot bar graph to show the distribution of students from locations (Town and Village), with different Languages, different School types.**"
   ]
  },
  {
   "cell_type": "code",
   "execution_count": 13,
   "metadata": {
    "scrolled": true
   },
   "outputs": [
    {
     "data": {
      "text/plain": [
       "<matplotlib.axes._subplots.AxesSubplot at 0x17cde8eaec8>"
      ]
     },
     "execution_count": 13,
     "metadata": {},
     "output_type": "execute_result"
    },
    {
     "data": {
      "image/png": "[encoded data removed]",
      "text/plain": [
       "<Figure size 432x288 with 1 Axes>"
      ]
     },
     "metadata": {
      "needs_background": "light"
     },
     "output_type": "display_data"
    }
   ],
   "source": [
    "#bar chart to show number of Village students vs number of Town students\n",
    "#required column selected then count each student in town and village\n",
    "dataset['TownOrVillage'].value_counts().plot(kind=\"bar\")\n",
    "\n"
   ]
  },
  {
   "cell_type": "code",
   "execution_count": 14,
   "metadata": {},
   "outputs": [
    {
     "data": {
      "text/plain": [
       "<matplotlib.axes._subplots.AxesSubplot at 0x17cdebd7dc8>"
      ]
     },
     "execution_count": 14,
     "metadata": {},
     "output_type": "execute_result"
    },
    {
     "data": {
      "image/png": "[encoded data removed]",
      "text/plain": [
       "<Figure size 432x288 with 1 Axes>"
      ]
     },
     "metadata": {
      "needs_background": "light"
     },
     "output_type": "display_data"
    }
   ],
   "source": [
    "#bar chart to show number of students that speak different languages\n",
    "#required column selected then value counts the column to give number of peoplethat speak each type of language spoke\n",
    "dataset['Language'].value_counts().plot(kind=\"bar\")"
   ]
  },
  {
   "cell_type": "code",
   "execution_count": 15,
   "metadata": {},
   "outputs": [
    {
     "data": {
      "text/plain": [
       "<matplotlib.axes._subplots.AxesSubplot at 0x17cdeca3448>"
      ]
     },
     "execution_count": 15,
     "metadata": {},
     "output_type": "execute_result"
    },
    {
     "data": {
      "image/png": "[encoded data removed]",
      "text/plain": [
       "<Figure size 432x288 with 1 Axes>"
      ]
     },
     "metadata": {
      "needs_background": "light"
     },
     "output_type": "display_data"
    }
   ],
   "source": [
    "#bar chart to show type of school stuents attend\n",
    "dataset['School_Type'].value_counts().plot(kind=\"bar\")"
   ]
  },
  {
   "cell_type": "markdown",
   "metadata": {},
   "source": [
    "**13. Find and plot distribution of student performance among town and Village students.**"
   ]
  },
  {
   "cell_type": "code",
   "execution_count": 16,
   "metadata": {},
   "outputs": [
    {
     "data": {
      "image/png": "[encoded data removed]",
      "text/plain": [
       "<Figure size 432x288 with 1 Axes>"
      ]
     },
     "metadata": {
      "needs_background": "light"
     },
     "output_type": "display_data"
    }
   ],
   "source": [
    "#student peformance graph showing how students performed in final exams (student performace perceived as Final exam score) and whether they lived in a town or village\n",
    "#grouping the 2 exam performances with the town and village and using size to find number of each town or village type\n",
    "performance_tv = dataset.groupby(['FinalExam_Performance', 'TownOrVillage']).size().unstack().plot.bar()"
   ]
  },
  {
   "cell_type": "markdown",
   "metadata": {},
   "source": [
    "**14. Find and plot distribution of student performance based on the type of study hours invested.**"
   ]
  },
  {
   "cell_type": "code",
   "execution_count": 17,
   "metadata": {
    "scrolled": true
   },
   "outputs": [
    {
     "data": {
      "image/png": "[encoded data removed]",
      "text/plain": [
       "<Figure size 432x288 with 1 Axes>"
      ]
     },
     "metadata": {
      "needs_background": "light"
     },
     "output_type": "display_data"
    }
   ],
   "source": [
    "#student performance perceived as Final exam score,stacked bar chart to show scores vs how many hours were invested\n",
    "hours_performance = dataset.groupby(['FinalExam_Performance','Study_Hours']).size().unstack().plot.bar()\n"
   ]
  },
  {
   "cell_type": "markdown",
   "metadata": {},
   "source": [
    "**15. Plot a simple plot for the travel time distribution of the students.**"
   ]
  },
  {
   "cell_type": "code",
   "execution_count": 18,
   "metadata": {},
   "outputs": [
    {
     "data": {
      "image/png": "[encoded data removed]",
      "text/plain": [
       "<Figure size 432x288 with 1 Axes>"
      ]
     },
     "metadata": {
      "needs_background": "light"
     },
     "output_type": "display_data"
    }
   ],
   "source": [
    "#college traveltime column selected and frequency of each value counted and plotted\n",
    "travel_time = dataset['College_Traveltime'].value_counts().plot()\n"
   ]
  },
  {
   "cell_type": "markdown",
   "metadata": {},
   "source": [
    "**16. Find the relation plotted as line and bar graph of the College_Traveltime to Class_Attendance.**"
   ]
  },
  {
   "cell_type": "code",
   "execution_count": 19,
   "metadata": {},
   "outputs": [
    {
     "data": {
      "image/png": "[encoded data removed]",
      "text/plain": [
       "<Figure size 432x288 with 1 Axes>"
      ]
     },
     "metadata": {
      "needs_background": "light"
     },
     "output_type": "display_data"
    },
    {
     "data": {
      "image/png": "[encoded data removed]",
      "text/plain": [
       "<Figure size 432x288 with 1 Axes>"
      ]
     },
     "metadata": {
      "needs_background": "light"
     },
     "output_type": "display_data"
    }
   ],
   "source": [
    "#tried to create on same graph but problems with overlapping\n",
    "#line = dataset.groupby(['Class_Attendance']).count()['Gender'].plot()\n",
    "#bar = dataset.groupby(['College_Traveltime']).count()['Gender'].plot.bar(color = 'blue')\n",
    "#shows how many people with different traveltime lengths attend class \n",
    "#group by college_traveltime and class_attendance find the size of each and plot \n",
    "line = dataset.groupby(['College_Traveltime', 'Class_Attendance']).size().unstack().plot()\n",
    "#same but plot bar\n",
    "bar = dataset.groupby(['College_Traveltime', 'Class_Attendance']).size().unstack().plot.bar()"
   ]
  },
  {
   "cell_type": "markdown",
   "metadata": {},
   "source": [
    "***17. Plot the distribution of family Income.***"
   ]
  },
  {
   "cell_type": "code",
   "execution_count": 20,
   "metadata": {},
   "outputs": [
    {
     "data": {
      "image/png": "[encoded data removed]",
      "text/plain": [
       "<Figure size 432x288 with 1 Axes>"
      ]
     },
     "metadata": {
      "needs_background": "light"
     },
     "output_type": "display_data"
    }
   ],
   "source": [
    "#line graph to show family income amongst students\n",
    "family_income = dataset.groupby(['FamilyMonthlyIncome']).count()['Gender'].plot()\n",
    "\n"
   ]
  },
  {
   "cell_type": "markdown",
   "metadata": {},
   "source": [
    "***18. Find the relation of the FamilyMonthlyIncome to Family_Size plotted as a bar graph. Fill in the missing data with zeros and later with non-zeros for a bar plot***"
   ]
  },
  {
   "cell_type": "code",
   "execution_count": 21,
   "metadata": {},
   "outputs": [
    {
     "data": {
      "image/png": "[encoded data removed]",
      "text/plain": [
       "<Figure size 432x288 with 1 Axes>"
      ]
     },
     "metadata": {
      "needs_background": "light"
     },
     "output_type": "display_data"
    }
   ],
   "source": [
    "#graph show how the family monthly income varies with the family size\n",
    "#group the required columns find size of each and re arrange into preffered structure to plot bar chart\n",
    "size_income = dataset.groupby(['Family_Size','FamilyMonthlyIncome']).size().unstack().plot(kind='bar')\n"
   ]
  },
  {
   "cell_type": "markdown",
   "metadata": {},
   "source": [
    "***19.Can you plot one or more Stacked bar plots like combining number of friends with the Study Hours? Hint: you may have to map these to have same numerical values. Sample graph shown below.***"
   ]
  },
  {
   "cell_type": "code",
   "execution_count": 22,
   "metadata": {},
   "outputs": [
    {
     "data": {
      "image/png": "[encoded data removed]",
      "text/plain": [
       "<Figure size 432x288 with 1 Axes>"
      ]
     },
     "metadata": {
      "needs_background": "light"
     },
     "output_type": "display_data"
    }
   ],
   "source": [
    "#grouping number of friends and study hours taking the size then unstacking the data to arrange it\n",
    "#plot a bar with stacked being true\n",
    "friends_study = dataset.groupby(['Number_of_friends', 'Study_Hours']).size().unstack().plot.bar(stacked=True)"
   ]
  },
  {
   "cell_type": "markdown",
   "metadata": {},
   "source": [
    "## Some more observations on the data! "
   ]
  },
  {
   "cell_type": "markdown",
   "metadata": {},
   "source": [
    "***20. Present examples of data analytics problems that can be addressed with this data. Explain in detail how the data leads to these conclusions. Do you have any prescriptive measures to propose for identified problems?***\n",
    "\n",
    "\n",
    "***(Answer in not more than 500 words.)***"
   ]
  },
  {
   "cell_type": "markdown",
   "metadata": {},
   "source": [
    "Examples of data analytics problems that can be addressed with this data include using it to form relations between different attributes. Student’s with parents in certain occupations could be prone to lower performance across academics, this can be plotted. Data analytics can highlight these issues predict possible future outcomes. This could involve looking at the different performances over time which could give likelihood of future results. Students that performed consistently across the board will be more likely to continue to perform at a steady rate and students with a wider variety of ranging performance will be harder to predict the outcomes. Combining multiple factors to predit student’s future results, if student has a lower grade in previous assessments school could recommend that they study for longer or they attend class more often.\n",
    "Data analysis could be used to predict what job students are likely to get in the future, their parent’s jobs are likely to impact what they end up doing e.g students who’s business. The kind of place they live in could also have an effect on future job’s e.g a student who’s father is a farmer and who lives in a village would be more likely to become a farmer than a student with a farmer as a father and who lives in a town.\n",
    "A problem could be that the school is building toilets and changing rooms but they don’t know how many students they need to be used by. The data can also be used by the school to get an idea of how many students are going to be attending in the coming years and the ratio between men and female. This allowing for knowledge on number of pupils before the school has received actual confirmed students. Analysis could be used to look at how the number of friend’s varies with the language spoken, this could result in school encouraging communication pupils with different languages.\n"
   ]
  },
  {
   "cell_type": "markdown",
   "metadata": {},
   "source": []
  }
 ],
 "metadata": {
  "kernelspec": {
   "display_name": "Python 3",
   "language": "python",
   "name": "python3"
  },
  "language_info": {
   "codemirror_mode": {
    "name": "ipython",
    "version": 3
   },
   "file_extension": ".py",
   "mimetype": "text/x-python",
   "name": "python",
   "nbconvert_exporter": "python",
   "pygments_lexer": "ipython3",
   "version": "3.7.4"
  }
 },
 "nbformat": 4,
 "nbformat_minor": 2
}
